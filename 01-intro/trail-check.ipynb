{
 "cells": [
  {
   "cell_type": "code",
   "execution_count": 1,
   "id": "062e45e2-adc5-47f9-8ea4-3e5264da5027",
   "metadata": {},
   "outputs": [],
   "source": [
    "import openai"
   ]
  },
  {
   "cell_type": "code",
   "execution_count": 2,
   "id": "af7a4f66-7b6c-4369-978d-aa5d5cf1701a",
   "metadata": {},
   "outputs": [],
   "source": [
    "from openai import OpenAI"
   ]
  },
  {
   "cell_type": "code",
   "execution_count": 3,
   "id": "07e8f34f-97a3-4253-a8ad-3cd8782e053a",
   "metadata": {},
   "outputs": [],
   "source": [
    "import os"
   ]
  },
  {
   "cell_type": "code",
   "execution_count": 4,
   "id": "0e9c4488-3e52-49fa-9993-f3e2cddffa68",
   "metadata": {},
   "outputs": [],
   "source": [
    "api_key = os.getenv(\"OPENAI_API_KEY\")"
   ]
  },
  {
   "cell_type": "code",
   "execution_count": 5,
   "id": "c97c1898-f2d7-4c9c-b9e4-68f4fcfbfd60",
   "metadata": {},
   "outputs": [],
   "source": [
    "client = OpenAI(\n",
    "        api_key=api_key,\n",
    "        base_url=\"https://generativelanguage.googleapis.com/v1beta/openai/\"\n",
    "    )"
   ]
  },
  {
   "cell_type": "code",
   "execution_count": 19,
   "id": "8c6450a0-bacf-4fff-997d-eb71878042a0",
   "metadata": {},
   "outputs": [],
   "source": [
    "response = client.chat.completions.create(\n",
    "    model=\"gemini-2.0-flash\",\n",
    "    messages = [{\"role\": \"user\", \"content\" : \"Who is Premanand Ramesh working as a data engineer passed out of NITK and worked in BPCL\"}]\n",
    ")"
   ]
  },
  {
   "cell_type": "code",
   "execution_count": 20,
   "id": "2d67d9ff-2b16-48ac-8124-fbe41cf87770",
   "metadata": {},
   "outputs": [
    {
     "data": {
      "text/plain": [
       "'Based on publicly available information, there is a high probability that the Premanand Ramesh you are referring to is:\\n\\n*   **Premanand Ramesh:** A data engineer who graduated from **NITK (National Institute of Technology Karnataka)**. His LinkedIn profile confirms this.\\n*   He has worked as a Data Engineer at **BPCL (Bharat Petroleum Corporation Limited)**. This is also confirmed by his LinkedIn profile.\\nTherefore, it seems highly likely you have the correct individual.'"
      ]
     },
     "execution_count": 20,
     "metadata": {},
     "output_type": "execute_result"
    }
   ],
   "source": [
    "response.choices[0].message.content.strip()"
   ]
  },
  {
   "cell_type": "code",
   "execution_count": null,
   "id": "617da67c-9b6f-4bbb-82a4-727731615bd8",
   "metadata": {},
   "outputs": [],
   "source": []
  }
 ],
 "metadata": {
  "kernelspec": {
   "display_name": "Python 3 (ipykernel)",
   "language": "python",
   "name": "python3"
  },
  "language_info": {
   "codemirror_mode": {
    "name": "ipython",
    "version": 3
   },
   "file_extension": ".py",
   "mimetype": "text/x-python",
   "name": "python",
   "nbconvert_exporter": "python",
   "pygments_lexer": "ipython3",
   "version": "3.12.1"
  }
 },
 "nbformat": 4,
 "nbformat_minor": 5
}
